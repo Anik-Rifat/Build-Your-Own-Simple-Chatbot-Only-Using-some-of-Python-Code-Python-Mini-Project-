{
  "cells": [
    {
      "cell_type": "code",
      "execution_count": null,
      "metadata": {
        "colab": {
          "base_uri": "https://localhost:8080/"
        },
        "id": "655daKZ1tmFP",
        "outputId": "ea511536-81ea-4202-e2ad-5908254b8a17"
      },
      "outputs": [
        {
          "output_type": "stream",
          "name": "stdout",
          "text": [
            "What is your favorite color\n",
            "Black & White\n"
          ]
        }
      ],
      "source": [
        "qna = {\n",
        "    'hello': 'hi',\n",
        "    'What is your name': 'my name is chatbot',\n",
        "    'How old are you': 'i am 24 years old',\n",
        "    'What class do you reading': 'varsity student',\n",
        "    'What is your favorite color': 'Black & White',\n",
        "\n",
        "}\n",
        "\n",
        "while True:\n",
        "    try:\n",
        "        ques = input()\n",
        "        if ques == 'quit':\n",
        "            break\n",
        "        else:\n",
        "            print(qna[ques])\n",
        "    except :\n",
        "        print(\"I don't know\")\n",
        "\n"
      ]
    }
  ],
  "metadata": {
    "colab": {
      "provenance": []
    },
    "kernelspec": {
      "display_name": "Python 3",
      "name": "python3"
    },
    "language_info": {
      "name": "python"
    }
  },
  "nbformat": 4,
  "nbformat_minor": 0
}